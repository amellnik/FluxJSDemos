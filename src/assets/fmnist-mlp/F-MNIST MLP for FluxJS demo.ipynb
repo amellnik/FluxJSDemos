{
 "cells": [
  {
   "cell_type": "markdown",
   "metadata": {},
   "source": [
    "# F-MNIST Multilayer Perceptron\n",
    "This notebook uses [Flux](https://github.com/FluxML/Flux.jl) to train a multilayer perceptron on the [Fashion-MNIST](https://github.com/zalandoresearch/fashion-mnist) dataset.  It exports the trained model with [FluxJS](https://github.com/FluxML/FluxJS.jl) to [deeplearn.js](https://deeplearnjs.org/) so that it can be used in the browser.  \n",
    "\n",
    "(Credit for this notebook goes to [WooKyoung Noh](https://github.com/wookay))."
   ]
  },
  {
   "cell_type": "code",
   "execution_count": 1,
   "metadata": {},
   "outputs": [
    {
     "name": "stderr",
     "output_type": "stream",
     "text": [
      "\u001b[1m\u001b[36mINFO: \u001b[39m\u001b[22m\u001b[36mRecompiling stale cache file /home/alex/.julia/lib/v0.6/Graphics.ji for module Graphics.\n",
      "\u001b[39m\u001b[1m\u001b[36mINFO: \u001b[39m\u001b[22m\u001b[36mRecompiling stale cache file /home/alex/.julia/lib/v0.6/ImageCore.ji for module ImageCore.\n",
      "\u001b[39mWARNING: --output requested, but no modules defined during run\n",
      "\u001b[1m\u001b[33mWARNING: \u001b[39m\u001b[22m\u001b[33mThe call to compilecache failed to create a usable precompiled cache file for module FFTW. Got:\u001b[39m\n",
      "\u001b[1m\u001b[33mWARNING: \u001b[39m\u001b[22m\u001b[33mCache file \"/home/alex/.julia/lib/v0.6/FFTW.ji\" not found.\u001b[39m\n",
      "WARNING: eval from module Main to ImageCore:    \n",
      "Expr(:call, Expr(:., :Base, :include_from_node1)::Any, \"/home/alex/.julia/v0.6/FFTW/src/FFTW.jl\")::Any\n",
      "  ** incremental compilation may be broken for this module **\n",
      "\n",
      "\u001b[1m\u001b[36mINFO: \u001b[39m\u001b[22m\u001b[36mRecompiling stale cache file /home/alex/.julia/lib/v0.6/MLDatasets.ji for module MLDatasets.\n",
      "\u001b[39m"
     ]
    }
   ],
   "source": [
    "using Flux\n",
    "using Flux: onehotbatch, argmax, crossentropy, throttle, @epochs\n",
    "using BSON\n",
    "using Base.Iterators: repeated\n",
    "using FluxJS\n",
    "using MLDatasets # FashionMNIST\n",
    "using ColorTypes: N0f8, Gray"
   ]
  },
  {
   "cell_type": "code",
   "execution_count": 2,
   "metadata": {},
   "outputs": [
    {
     "data": {
      "text/plain": [
       "Chain(Dense(784, 32, NNlib.relu), Dense(32, 10), NNlib.softmax)"
      ]
     },
     "execution_count": 2,
     "metadata": {},
     "output_type": "execute_result"
    }
   ],
   "source": [
    "const Img = Matrix{Gray{N0f8}}\n",
    "\n",
    "function prepare_train()\n",
    "    # load full training set\n",
    "    train_x, train_y = FashionMNIST.traindata() # 60_000\n",
    "\n",
    "    trainrange = 1:60_000 # 1:60_000\n",
    "    imgs = Img.([train_x[:,:,i] for i in trainrange])\n",
    "    # Stack images into one large batch\n",
    "    X = hcat(float.(reshape.(imgs, :))...) |> gpu\n",
    "    # One-hot-encode the labels\n",
    "    Y = onehotbatch(train_y[trainrange], 0:9) |> gpu\n",
    "    X, Y\n",
    "end\n",
    "\n",
    "function prepare_test()\n",
    "    # Load full test set\n",
    "    test_x,  test_y  = FashionMNIST.testdata() # 10_000\n",
    "\n",
    "    testrange = 1:1_000 # 1:10_000\n",
    "    test_imgs = Img.([test_x[:,:,i] for i in testrange])\n",
    "    tX = hcat(float.(reshape.(test_imgs, :))...)  |> gpu\n",
    "    tY = onehotbatch(test_y[testrange], 0:9) |> gpu\n",
    "    \n",
    "    # Save the first 100 images in a bson for use in the web demo\n",
    "    bson(\"test_images.bson\", Dict(\n",
    "        :images => reshape(Float32.(tX[:,1:100]), 784*100),\n",
    "        :labels =>Int32.(test_y[1:100])\n",
    "    ))\n",
    "    \n",
    "    tX, tY\n",
    "end\n",
    "\n",
    "X, Y = prepare_train()\n",
    "tX, tY = prepare_test()\n",
    "\n",
    "m = Chain(\n",
    "  Dense(28^2, 32, relu),\n",
    "  Dense(32, 10),\n",
    "  softmax) |> gpu"
   ]
  },
  {
   "cell_type": "code",
   "execution_count": 3,
   "metadata": {},
   "outputs": [
    {
     "name": "stderr",
     "output_type": "stream",
     "text": [
      "\u001b[1m\u001b[36mINFO: \u001b[39m\u001b[22m\u001b[36mEpoch 1\n",
      "\u001b[39m"
     ]
    },
    {
     "name": "stdout",
     "output_type": "stream",
     "text": [
      "loss(X, Y) = 2.319393114238521 (tracked)\n",
      "loss(X, Y) = 1.8492554278209932 (tracked)\n",
      "loss(X, Y) = 1.465513296237327 (tracked)\n",
      "loss(X, Y) = 1.207173994425875 (tracked)\n",
      "loss(X, Y) = 1.0362687231537662 (tracked)\n",
      "loss(X, Y) = 0.9271482992555827 (tracked)\n",
      "loss(X, Y) = 0.8630851948043434 (tracked)\n",
      "loss(X, Y) = 0.8037644415911736 (tracked)\n",
      "loss(X, Y) = 0.7649856856332238 (tracked)\n",
      "loss(X, Y) = 0.726926655542281 (tracked)\n",
      "loss(X, Y) = 0.6997025804171768 (tracked)\n",
      "loss(X, Y) = 0.6767615869350542 (tracked)\n",
      "loss(X, Y) = 0.6524676297710844 (tracked)\n",
      "loss(X, Y) = 0.6311056607728174 (tracked)\n",
      "loss(X, Y) = 0.6122592764697472 (tracked)\n",
      "loss(X, Y) = 0.5944632160638561 (tracked)\n",
      "loss(X, Y) = 0.5785307247531124 (tracked)\n",
      "loss(X, Y) = 0.5640768693919396 (tracked)\n",
      "loss(X, Y) = 0.5511865210894342 (tracked)\n",
      "loss(X, Y) = 0.5396836403987842 (tracked)\n",
      "loss(X, Y) = 0.5293738020058126 (tracked)\n",
      "loss(X, Y) = 0.5201390581958197 (tracked)\n",
      "loss(X, Y) = 0.5118085087319725 (tracked)\n",
      "loss(X, Y) = 0.5042554802866919 (tracked)\n",
      "loss(X, Y) = 0.49847974390729105 (tracked)\n",
      "loss(X, Y) = 0.49207962473877936 (tracked)\n",
      "loss(X, Y) = 0.4861788348684173 (tracked)\n",
      "loss(X, Y) = 0.48071766816833966 (tracked)\n",
      "loss(X, Y) = 0.4756319899420443 (tracked)\n",
      "loss(X, Y) = 0.4716436349128944 (tracked)\n",
      "loss(X, Y) = 0.46712947610956695 (tracked)\n",
      "loss(X, Y) = 0.4628851615595675 (tracked)\n",
      "loss(X, Y) = 0.45888296324717776 (tracked)\n",
      "loss(X, Y) = 0.4550906405829893 (tracked)\n",
      "loss(X, Y) = 0.4514568074487857 (tracked)\n"
     ]
    },
    {
     "name": "stderr",
     "output_type": "stream",
     "text": [
      "\u001b[1m\u001b[36mINFO: \u001b[39m\u001b[22m\u001b[36mEpoch 2\n",
      "\u001b[39m"
     ]
    },
    {
     "name": "stdout",
     "output_type": "stream",
     "text": [
      "loss(X, Y) = 0.4502621911132155 (tracked)\n",
      "loss(X, Y) = 0.44683130489333106 (tracked)\n",
      "loss(X, Y) = 0.44407039422716904 (tracked)\n",
      "loss(X, Y) = 0.4414153647409257 (tracked)\n",
      "loss(X, Y) = 0.4393455991399356 (tracked)\n",
      "loss(X, Y) = 0.4368265315915678 (tracked)\n",
      "loss(X, Y) = 0.43437839415680224 (tracked)\n",
      "loss(X, Y) = 0.43198811640709706 (tracked)\n",
      "loss(X, Y) = 0.42963606603755744 (tracked)\n",
      "loss(X, Y) = 0.4282075174652327 (tracked)\n",
      "loss(X, Y) = 0.42635100317340247 (tracked)\n",
      "loss(X, Y) = 0.4245033800905603 (tracked)\n",
      "loss(X, Y) = 0.4226436438372134 (tracked)\n",
      "loss(X, Y) = 0.42125164020957645 (tracked)\n",
      "loss(X, Y) = 0.41892879029299424 (tracked)\n",
      "loss(X, Y) = 0.41622673812845984 (tracked)\n",
      "loss(X, Y) = 0.41351798157830805 (tracked)\n",
      "loss(X, Y) = 0.41089071340946653 (tracked)\n",
      "loss(X, Y) = 0.40834345573836023 (tracked)\n",
      "loss(X, Y) = 0.40628398274759797 (tracked)\n",
      "loss(X, Y) = 0.40427737120650986 (tracked)\n",
      "loss(X, Y) = 0.40194703785209135 (tracked)\n",
      "loss(X, Y) = 0.39969735045919647 (tracked)\n",
      "loss(X, Y) = 0.3975079039304189 (tracked)\n",
      "loss(X, Y) = 0.3953834468955944 (tracked)\n",
      "loss(X, Y) = 0.39332488342183936 (tracked)\n",
      "loss(X, Y) = 0.3914453277049781 (tracked)\n",
      "loss(X, Y) = 0.38945096713214433 (tracked)\n",
      "loss(X, Y) = 0.3875879546306373 (tracked)\n",
      "loss(X, Y) = 0.38578019950223885 (tracked)\n",
      "loss(X, Y) = 0.38402180469471914 (tracked)\n",
      "loss(X, Y) = 0.38231537410034083 (tracked)\n",
      "loss(X, Y) = 0.38065909229463757 (tracked)\n",
      "loss(X, Y) = 0.3790461930899169 (tracked)\n",
      "loss(X, Y) = 0.37746976251609593 (tracked)\n",
      "loss(X, Y) = 0.3759328192590477 (tracked)\n",
      "loss(X, Y) = 0.3744311611480326 (tracked)\n",
      "loss(X, Y) = 0.3729977159543169 (tracked)\n"
     ]
    },
    {
     "name": "stderr",
     "output_type": "stream",
     "text": [
      "\u001b[1m\u001b[36mINFO: \u001b[39m\u001b[22m\u001b[36mEpoch 3\n",
      "\u001b[39m"
     ]
    },
    {
     "name": "stdout",
     "output_type": "stream",
     "text": [
      "loss(X, Y) = 0.3727750497773655 (tracked)\n",
      "loss(X, Y) = 0.3713583263323641 (tracked)\n",
      "loss(X, Y) = 0.36996805406537087 (tracked)\n",
      "loss(X, Y) = 0.36857954553462574 (tracked)\n",
      "loss(X, Y) = 0.3672518476646927 (tracked)\n",
      "loss(X, Y) = 0.3659750890601754 (tracked)\n",
      "loss(X, Y) = 0.36470835004733504 (tracked)\n",
      "loss(X, Y) = 0.363491600024328 (tracked)\n",
      "loss(X, Y) = 0.3622990541610327 (tracked)\n",
      "loss(X, Y) = 0.36110250063831456 (tracked)\n",
      "loss(X, Y) = 0.3599278223293612 (tracked)\n",
      "loss(X, Y) = 0.358796996409914 (tracked)\n",
      "loss(X, Y) = 0.3579405109512548 (tracked)\n",
      "loss(X, Y) = 0.3570248084599389 (tracked)\n",
      "loss(X, Y) = 0.35587035622918534 (tracked)\n",
      "loss(X, Y) = 0.35477356633041135 (tracked)\n",
      "loss(X, Y) = 0.35372548937565723 (tracked)\n",
      "loss(X, Y) = 0.3527097460778781 (tracked)\n",
      "loss(X, Y) = 0.3518722217844755 (tracked)\n",
      "loss(X, Y) = 0.35090592313506913 (tracked)\n",
      "loss(X, Y) = 0.349958644949679 (tracked)\n",
      "loss(X, Y) = 0.34901102464518674 (tracked)\n",
      "loss(X, Y) = 0.3480935227007142 (tracked)\n",
      "loss(X, Y) = 0.34719479160603767 (tracked)\n",
      "loss(X, Y) = 0.34631387750281234 (tracked)\n",
      "loss(X, Y) = 0.345453254649617 (tracked)\n",
      "loss(X, Y) = 0.34466131294508384 (tracked)\n",
      "loss(X, Y) = 0.3437566762816077 (tracked)\n",
      "loss(X, Y) = 0.3430242346903435 (tracked)\n",
      "loss(X, Y) = 0.3422546405736227 (tracked)\n",
      "loss(X, Y) = 0.3413811336839914 (tracked)\n",
      "loss(X, Y) = 0.34062038724103294 (tracked)\n",
      "loss(X, Y) = 0.3399370948159872 (tracked)\n",
      "loss(X, Y) = 0.33907289102224014 (tracked)\n"
     ]
    },
    {
     "name": "stderr",
     "output_type": "stream",
     "text": [
      "\u001b[1m\u001b[36mINFO: \u001b[39m\u001b[22m\u001b[36mEpoch 4\n",
      "\u001b[39m"
     ]
    },
    {
     "name": "stdout",
     "output_type": "stream",
     "text": [
      "loss(X, Y) = 0.3384036607450193 (tracked)\n",
      "loss(X, Y) = 0.33773055184016276 (tracked)\n",
      "loss(X, Y) = 0.3369674572532239 (tracked)\n",
      "loss(X, Y) = 0.33616962710187576 (tracked)\n",
      "loss(X, Y) = 0.3354822625457311 (tracked)\n",
      "loss(X, Y) = 0.33491497915125196 (tracked)\n",
      "loss(X, Y) = 0.3340783622805057 (tracked)\n",
      "loss(X, Y) = 0.33349458449635616 (tracked)\n",
      "loss(X, Y) = 0.332888920605551 (tracked)\n",
      "loss(X, Y) = 0.33210106083479196 (tracked)\n",
      "loss(X, Y) = 0.3314637970276914 (tracked)\n",
      "loss(X, Y) = 0.3308454456606266 (tracked)\n",
      "loss(X, Y) = 0.33017801754011433 (tracked)\n",
      "loss(X, Y) = 0.32947939948126137 (tracked)\n",
      "loss(X, Y) = 0.32893236599506404 (tracked)\n",
      "loss(X, Y) = 0.3284084230618013 (tracked)\n",
      "loss(X, Y) = 0.3278847312174922 (tracked)\n",
      "loss(X, Y) = 0.3276210727111398 (tracked)\n",
      "loss(X, Y) = 0.3266664618181417 (tracked)\n",
      "loss(X, Y) = 0.3263384364060749 (tracked)\n",
      "loss(X, Y) = 0.3256763706849859 (tracked)\n",
      "loss(X, Y) = 0.3252434742695658 (tracked)\n",
      "loss(X, Y) = 0.32469468294154574 (tracked)\n",
      "loss(X, Y) = 0.32433859832707107 (tracked)\n",
      "loss(X, Y) = 0.32374057720986926 (tracked)\n",
      "loss(X, Y) = 0.32315455455649644 (tracked)\n",
      "loss(X, Y) = 0.32267981035438587 (tracked)\n",
      "loss(X, Y) = 0.3221263749671351 (tracked)\n",
      "loss(X, Y) = 0.32174776405164945 (tracked)\n",
      "loss(X, Y) = 0.3216432902379683 (tracked)\n",
      "loss(X, Y) = 0.32067511035275503 (tracked)\n",
      "loss(X, Y) = 0.3199275851223897 (tracked)\n",
      "loss(X, Y) = 0.3194290984831891 (tracked)\n",
      "loss(X, Y) = 0.31892782634693545 (tracked)\n",
      "loss(X, Y) = 0.31834569273037827 (tracked)\n",
      "loss(X, Y) = 0.3178168239535764 (tracked)\n"
     ]
    },
    {
     "name": "stderr",
     "output_type": "stream",
     "text": [
      "\u001b[1m\u001b[36mINFO: \u001b[39m\u001b[22m\u001b[36mEpoch 5\n",
      "\u001b[39m"
     ]
    },
    {
     "name": "stdout",
     "output_type": "stream",
     "text": [
      "loss(X, Y) = 0.31772328532882127 (tracked)\n",
      "loss(X, Y) = 0.31730095811094405 (tracked)\n",
      "loss(X, Y) = 0.3168698304375715 (tracked)\n",
      "loss(X, Y) = 0.3163401783947382 (tracked)\n",
      "loss(X, Y) = 0.31585198177809104 (tracked)\n",
      "loss(X, Y) = 0.31548748862140613 (tracked)\n",
      "loss(X, Y) = 0.31509024904324384 (tracked)\n",
      "loss(X, Y) = 0.31429506922194583 (tracked)\n",
      "loss(X, Y) = 0.313906818257718 (tracked)\n",
      "loss(X, Y) = 0.3134208054567013 (tracked)\n",
      "loss(X, Y) = 0.3128650150930208 (tracked)\n",
      "loss(X, Y) = 0.3124280320710254 (tracked)\n",
      "loss(X, Y) = 0.3120869980329065 (tracked)\n",
      "loss(X, Y) = 0.31169809354876954 (tracked)\n",
      "loss(X, Y) = 0.3109621643727837 (tracked)\n",
      "loss(X, Y) = 0.3105407329774212 (tracked)\n",
      "loss(X, Y) = 0.3100911456022601 (tracked)\n",
      "loss(X, Y) = 0.30956707077353035 (tracked)\n",
      "loss(X, Y) = 0.30902275323928224 (tracked)\n",
      "loss(X, Y) = 0.30854440095529606 (tracked)\n",
      "loss(X, Y) = 0.30813938077501624 (tracked)\n",
      "loss(X, Y) = 0.30770502875097894 (tracked)\n",
      "loss(X, Y) = 0.30793818806563245 (tracked)\n",
      "loss(X, Y) = 0.3068514967420037 (tracked)\n",
      "loss(X, Y) = 0.3065757474822625 (tracked)\n",
      "loss(X, Y) = 0.3059796431359174 (tracked)\n",
      "loss(X, Y) = 0.3054132946770301 (tracked)\n",
      "loss(X, Y) = 0.30489629147863856 (tracked)\n",
      "loss(X, Y) = 0.30439998285803066 (tracked)\n",
      "loss(X, Y) = 0.30401579571185444 (tracked)\n",
      "loss(X, Y) = 0.3036386808003465 (tracked)\n",
      "loss(X, Y) = 0.3031626001410508 (tracked)\n",
      "loss(X, Y) = 0.3027039256539373 (tracked)\n",
      "loss(X, Y) = 0.3022437609219461 (tracked)\n",
      "loss(X, Y) = 0.30181478160347164 (tracked)\n",
      "Training set accuracy: 0.8963833333333333\n",
      "Test set accuracy: 0.872\n"
     ]
    }
   ],
   "source": [
    "loss(x, y) = crossentropy(m(x), y)\n",
    "\n",
    "accuracy(x, y) = mean(argmax(m(x)) .== argmax(y))\n",
    "\n",
    "dataset = repeated((X, Y), 200)\n",
    "evalcb = () -> @show(loss(X, Y))\n",
    "opt = ADAM(params(m))\n",
    "\n",
    "@epochs 5 Flux.train!(loss, dataset, opt, cb = throttle(evalcb, 2))\n",
    "\n",
    "println(\"Training set accuracy: \", accuracy(X, Y))\n",
    "# 0.983\n",
    "\n",
    "println(\"Test set accuracy: \", accuracy(tX, tY))\n",
    "# 0.83"
   ]
  },
  {
   "cell_type": "code",
   "execution_count": 3,
   "metadata": {},
   "outputs": [
    {
     "data": {
      "text/plain": [
       "let model = (function () {\n",
       "  let math = tf;\n",
       "  function alligator(coati) {\n",
       "    return math.add(math.matrixTimesVector(model.weights[0], coati), model.weights[1]);\n",
       "  };\n",
       "  function cobra(eland) {\n",
       "    return math.relu(math.add(math.matrixTimesVector(model.weights[2], eland), model.weights[3]));\n",
       "  };\n",
       "  function model(jellyfish) {\n",
       "    return math.softmax(alligator(cobra(jellyfish)));\n",
       "  };\n",
       "  model.weights = [];\n",
       "  return model;\n",
       "})();\n",
       "flux.fetchWeights(\"model.bson\").then((function (ws) {\n",
       "  return model.weights = ws;\n",
       "}));\n"
      ]
     },
     "execution_count": 3,
     "metadata": {},
     "output_type": "execute_result"
    }
   ],
   "source": [
    "# See the deeplearn.js representation of the model\n",
    "@code_js m(X[:,1])"
   ]
  },
  {
   "cell_type": "code",
   "execution_count": 5,
   "metadata": {},
   "outputs": [],
   "source": [
    "# Write the model javascript and the model weights to files\n",
    "FluxJS.compile(\"mlp\", m, X[:,1])"
   ]
  },
  {
   "cell_type": "code",
   "execution_count": null,
   "metadata": {},
   "outputs": [],
   "source": []
  }
 ],
 "metadata": {
  "kernelspec": {
   "display_name": "Julia 0.6.1",
   "language": "julia",
   "name": "julia-0.6"
  },
  "language_info": {
   "file_extension": ".jl",
   "mimetype": "application/julia",
   "name": "julia",
   "version": "0.6.1"
  }
 },
 "nbformat": 4,
 "nbformat_minor": 2
}
