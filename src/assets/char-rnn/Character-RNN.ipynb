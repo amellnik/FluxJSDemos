{
 "cells": [
  {
   "cell_type": "code",
   "execution_count": 21,
   "metadata": {},
   "outputs": [],
   "source": [
    "using Flux\n",
    "using Flux: onehot, argmax, chunk, batchseq, throttle, crossentropy\n",
    "using FluxJS\n",
    "using StatsBase: wsample\n",
    "using Base.Iterators: partition\n",
    "using BSON: @save, @load"
   ]
  },
  {
   "cell_type": "code",
   "execution_count": 3,
   "metadata": {},
   "outputs": [],
   "source": [
    "text = collect(readstring(\"hp.txt\"))\n",
    "alphabet = [unique(text)..., '_']\n",
    "text = map(ch -> onehot(ch, alphabet), text)\n",
    "stop = onehot('_', alphabet)\n",
    "N = length(alphabet)\n",
    "seqlen = 50\n",
    "nbatch = 25\n",
    "\n",
    "Xs = collect(partition(batchseq(chunk(text, nbatch), stop), seqlen))\n",
    "Ys = collect(partition(batchseq(chunk(text[2:end], nbatch), stop), seqlen));"
   ]
  },
  {
   "cell_type": "code",
   "execution_count": 4,
   "metadata": {},
   "outputs": [
    {
     "data": {
      "text/plain": [
       "evalcb (generic function with 1 method)"
      ]
     },
     "execution_count": 4,
     "metadata": {},
     "output_type": "execute_result"
    }
   ],
   "source": [
    "m = Chain(\n",
    "  LSTM(N, 128),\n",
    "  LSTM(128, 128),\n",
    "  Dense(128, N),\n",
    "  softmax)\n",
    "\n",
    "function loss(xs, ys)\n",
    "  l = sum(crossentropy.(m.(xs), ys))\n",
    "  Flux.truncate!(m)\n",
    "  return l\n",
    "end\n",
    "\n",
    "opt = ADAM(params(m), 0.01)\n",
    "function evalcb() \n",
    "    @show loss(Xs[5], Ys[5])\n",
    "    @save \"model-checkpoint.bson\" m\n",
    "end"
   ]
  },
  {
   "cell_type": "code",
   "execution_count": 5,
   "metadata": {
    "scrolled": false
   },
   "outputs": [
    {
     "name": "stdout",
     "output_type": "stream",
     "text": [
      "loss(Xs[5], Ys[5]) = 222.3757202685765 (tracked)\n",
      "loss(Xs[5], Ys[5]) = 157.21890909493126 (tracked)\n",
      "loss(Xs[5], Ys[5]) = 133.8549126696383 (tracked)\n",
      "loss(Xs[5], Ys[5]) = 122.90663398381166 (tracked)\n",
      "loss(Xs[5], Ys[5]) = 114.47700039986553 (tracked)\n",
      "loss(Xs[5], Ys[5]) = 108.84221941193296 (tracked)\n",
      "loss(Xs[5], Ys[5]) = 103.49640418315056 (tracked)\n",
      "loss(Xs[5], Ys[5]) = 101.6835895707162 (tracked)\n",
      "loss(Xs[5], Ys[5]) = 98.85960913039885 (tracked)\n",
      "loss(Xs[5], Ys[5]) = 96.9075684127779 (tracked)\n",
      "loss(Xs[5], Ys[5]) = 93.2355921660098 (tracked)\n",
      "loss(Xs[5], Ys[5]) = 92.01270261481325 (tracked)\n",
      "loss(Xs[5], Ys[5]) = 90.57310722525109 (tracked)\n",
      "loss(Xs[5], Ys[5]) = 90.61986117375184 (tracked)\n",
      "loss(Xs[5], Ys[5]) = 91.63529131454425 (tracked)\n",
      "loss(Xs[5], Ys[5]) = 88.16451110433556 (tracked)\n",
      "loss(Xs[5], Ys[5]) = 86.72675765174564 (tracked)\n",
      "loss(Xs[5], Ys[5]) = 86.06704838193778 (tracked)\n",
      "loss(Xs[5], Ys[5]) = 86.41018876768626 (tracked)\n",
      "loss(Xs[5], Ys[5]) = 85.57010398651063 (tracked)\n",
      "loss(Xs[5], Ys[5]) = 82.85753368402628 (tracked)\n",
      "loss(Xs[5], Ys[5]) = 84.49152680789149 (tracked)\n",
      "loss(Xs[5], Ys[5]) = 84.92864961333608 (tracked)\n",
      "loss(Xs[5], Ys[5]) = 84.31440478462567 (tracked)\n",
      "loss(Xs[5], Ys[5]) = 84.78915102347379 (tracked)\n",
      "loss(Xs[5], Ys[5]) = 83.49570447772275 (tracked)\n",
      "loss(Xs[5], Ys[5]) = 82.77741982966886 (tracked)\n",
      "loss(Xs[5], Ys[5]) = 81.42763738722839 (tracked)\n",
      "loss(Xs[5], Ys[5]) = 82.83864802127275 (tracked)\n",
      "loss(Xs[5], Ys[5]) = 82.6504055253394 (tracked)\n",
      "loss(Xs[5], Ys[5]) = 82.68374325110945 (tracked)\n",
      "loss(Xs[5], Ys[5]) = 82.30029943095599 (tracked)\n",
      "loss(Xs[5], Ys[5]) = 80.90182890215033 (tracked)\n",
      "loss(Xs[5], Ys[5]) = 81.01966680450066 (tracked)\n",
      "loss(Xs[5], Ys[5]) = 79.43415605204372 (tracked)\n",
      "loss(Xs[5], Ys[5]) = 80.88529266536682 (tracked)\n",
      "loss(Xs[5], Ys[5]) = 81.13875564334062 (tracked)\n",
      "loss(Xs[5], Ys[5]) = 79.55021287501042 (tracked)\n",
      "loss(Xs[5], Ys[5]) = 80.44689889835018 (tracked)\n",
      "loss(Xs[5], Ys[5]) = 79.2678868003312 (tracked)\n",
      "loss(Xs[5], Ys[5]) = 79.04764111224955 (tracked)\n",
      "loss(Xs[5], Ys[5]) = 78.64843008468563 (tracked)\n",
      "loss(Xs[5], Ys[5]) = 77.93616900949972 (tracked)\n",
      "loss(Xs[5], Ys[5]) = 78.23266439929232 (tracked)\n",
      "loss(Xs[5], Ys[5]) = 79.43871000734086 (tracked)\n",
      "loss(Xs[5], Ys[5]) = 78.53032194701727 (tracked)\n",
      "loss(Xs[5], Ys[5]) = 79.35225407180894 (tracked)\n",
      "loss(Xs[5], Ys[5]) = 78.99892782069495 (tracked)\n",
      "loss(Xs[5], Ys[5]) = 77.26543735053474 (tracked)\n",
      "loss(Xs[5], Ys[5]) = 79.65327029488388 (tracked)\n",
      "loss(Xs[5], Ys[5]) = 78.85190073892247 (tracked)\n",
      "loss(Xs[5], Ys[5]) = 77.67199241869726 (tracked)\n",
      "loss(Xs[5], Ys[5]) = 77.78598953695851 (tracked)\n",
      "loss(Xs[5], Ys[5]) = 77.75897044716781 (tracked)\n",
      "loss(Xs[5], Ys[5]) = 77.26114015427724 (tracked)\n",
      "loss(Xs[5], Ys[5]) = 77.29744803990752 (tracked)\n",
      "loss(Xs[5], Ys[5]) = 77.28866772318975 (tracked)\n",
      "loss(Xs[5], Ys[5]) = 77.54055647615142 (tracked)\n",
      "loss(Xs[5], Ys[5]) = 78.18175386447544 (tracked)\n",
      "loss(Xs[5], Ys[5]) = 79.15010923001368 (tracked)\n",
      "loss(Xs[5], Ys[5]) = 79.46217083681539 (tracked)\n",
      "loss(Xs[5], Ys[5]) = 77.29578081144264 (tracked)\n",
      "loss(Xs[5], Ys[5]) = 79.56914360150382 (tracked)\n",
      "loss(Xs[5], Ys[5]) = 77.10637452033271 (tracked)\n",
      "loss(Xs[5], Ys[5]) = 76.73980661608284 (tracked)\n",
      "loss(Xs[5], Ys[5]) = 79.09250687690908 (tracked)\n",
      "loss(Xs[5], Ys[5]) = 77.19703790552263 (tracked)\n",
      "loss(Xs[5], Ys[5]) = 76.18245709962282 (tracked)\n",
      "loss(Xs[5], Ys[5]) = 78.08727353300257 (tracked)\n",
      "loss(Xs[5], Ys[5]) = 77.86850449510048 (tracked)\n",
      "loss(Xs[5], Ys[5]) = 77.30638221781449 (tracked)\n",
      "loss(Xs[5], Ys[5]) = 78.563942375161 (tracked)\n",
      "loss(Xs[5], Ys[5]) = 77.50519698048555 (tracked)\n",
      "loss(Xs[5], Ys[5]) = 76.73741727950795 (tracked)\n",
      "loss(Xs[5], Ys[5]) = 77.07567671621236 (tracked)\n",
      "loss(Xs[5], Ys[5]) = 77.13553316923404 (tracked)\n",
      "loss(Xs[5], Ys[5]) = 77.36014686192244 (tracked)\n",
      "loss(Xs[5], Ys[5]) = 78.16860029039545 (tracked)\n",
      "loss(Xs[5], Ys[5]) = 77.21375941730601 (tracked)\n",
      "loss(Xs[5], Ys[5]) = 77.35602386790009 (tracked)\n",
      "loss(Xs[5], Ys[5]) = 78.00587539520016 (tracked)\n",
      "loss(Xs[5], Ys[5]) = 78.20886875547053 (tracked)\n",
      "loss(Xs[5], Ys[5]) = 76.12490326659622 (tracked)\n",
      "loss(Xs[5], Ys[5]) = 77.04709892906622 (tracked)\n",
      "loss(Xs[5], Ys[5]) = 75.58286141455564 (tracked)\n",
      "loss(Xs[5], Ys[5]) = 75.72971174628692 (tracked)\n",
      "loss(Xs[5], Ys[5]) = 74.32967248760458 (tracked)\n",
      "loss(Xs[5], Ys[5]) = 78.39231172760799 (tracked)\n",
      "loss(Xs[5], Ys[5]) = 77.65556182043876 (tracked)\n",
      "loss(Xs[5], Ys[5]) = 77.41284984360136 (tracked)\n",
      "loss(Xs[5], Ys[5]) = 75.42880888041545 (tracked)\n",
      "loss(Xs[5], Ys[5]) = 76.12015998041873 (tracked)\n",
      "loss(Xs[5], Ys[5]) = 75.10607386763124 (tracked)\n",
      "loss(Xs[5], Ys[5]) = 75.39830650392321 (tracked)\n",
      "loss(Xs[5], Ys[5]) = 76.32142288589489 (tracked)\n",
      "loss(Xs[5], Ys[5]) = 77.3157819713945 (tracked)\n",
      "loss(Xs[5], Ys[5]) = 77.88048380947023 (tracked)\n",
      "loss(Xs[5], Ys[5]) = 75.21131080102406 (tracked)\n",
      "loss(Xs[5], Ys[5]) = 75.75104562004867 (tracked)\n",
      "loss(Xs[5], Ys[5]) = 76.52895896099199 (tracked)\n",
      "loss(Xs[5], Ys[5]) = 75.35003737656285 (tracked)\n",
      "loss(Xs[5], Ys[5]) = 75.30946620754561 (tracked)\n",
      "loss(Xs[5], Ys[5]) = 76.65398535890313 (tracked)\n",
      "loss(Xs[5], Ys[5]) = 74.52517401043688 (tracked)\n",
      "loss(Xs[5], Ys[5]) = 73.52341657146285 (tracked)\n",
      "loss(Xs[5], Ys[5]) = 75.92703767167183 (tracked)\n",
      "loss(Xs[5], Ys[5]) = 74.89778833007382 (tracked)\n",
      "loss(Xs[5], Ys[5]) = 76.46836552780337 (tracked)\n",
      "loss(Xs[5], Ys[5]) = 75.84366571816484 (tracked)\n",
      "loss(Xs[5], Ys[5]) = 73.06143700468854 (tracked)\n",
      "loss(Xs[5], Ys[5]) = 75.2807536545212 (tracked)\n",
      "loss(Xs[5], Ys[5]) = 73.22884611101126 (tracked)\n",
      "loss(Xs[5], Ys[5]) = 73.90299842645783 (tracked)\n",
      "loss(Xs[5], Ys[5]) = 74.58809820021796 (tracked)\n",
      "loss(Xs[5], Ys[5]) = 73.24658976287652 (tracked)\n",
      "loss(Xs[5], Ys[5]) = 71.29644848436426 (tracked)\n",
      "loss(Xs[5], Ys[5]) = 74.0647498463659 (tracked)\n",
      "loss(Xs[5], Ys[5]) = 72.97999799146905 (tracked)\n"
     ]
    }
   ],
   "source": [
    "Flux.train!(loss, zip(Xs, Ys), opt,\n",
    "            cb = throttle(evalcb, 30))"
   ]
  },
  {
   "cell_type": "code",
   "execution_count": 6,
   "metadata": {},
   "outputs": [
    {
     "data": {
      "text/plain": [
       "sample (generic function with 1 method)"
      ]
     },
     "execution_count": 6,
     "metadata": {},
     "output_type": "execute_result"
    }
   ],
   "source": [
    "function sample(m, alphabet, len; temp = 1)\n",
    "  Flux.reset!(m)\n",
    "  buf = IOBuffer()\n",
    "  c = rand(alphabet)\n",
    "  for i = 1:len\n",
    "    write(buf, c)\n",
    "    c = wsample(alphabet, m(onehot(c, alphabet)).data)\n",
    "  end\n",
    "  return String(take!(buf))\n",
    "end"
   ]
  },
  {
   "cell_type": "code",
   "execution_count": 7,
   "metadata": {},
   "outputs": [
    {
     "name": "stdout",
     "output_type": "stream",
     "text": [
      "'ll do, sort of Wordt for red, when it abundering, becoming and importance for eye-parently. Students,\" said Ron, under corridor contentation and Hermione was viised to press stretched shining-blinked the disagress, frew to room jurk upon a greatle's enough was endedently had been people bade through them dispotton aidered over the brotthed and left. Hermione, dropped and family was\n",
      " frew in a high door, talking with Harry bly in mouds, still was degiturated. It thruel and left it assowth jordflouched. \"Purresses?\" Harry and them thicked gingress of blow were got his fingering -well, remembered vowprestly Umbridge was noise right gill to sprounded green stronged.\n",
      " \"I know. . . .\" Roiring dropped up, \"Motter-Ome listent ?\"\n",
      "They sit mean, fomility whereen \"whill we'll good it. . . .\n",
      " Perhaps the entoronce - I did you will place's means where's help nothing doing, she�s asleeply best come so only thirts of that winged around he? Hod during to checkure that!\" snarled Harry had been dementors into the glass said that senew of good of clower slid. He nodding from his pals , a been furning his weeks cold surfieds and Mr. Ener's mous.\"\n",
      "\n",
      " Bunh and Ron, started as they had more barely drinking ragin hair staring at\n",
      " pouncertions.\n",
      "Them together at once with a first Muggles three fighting into I have cracked its highly teasure endereding. \"The door Fleur brotic, I wish, wonder something appeared giffy Sorhing Ministince and they haven�t raised his closer.\"\n",
      " And it with relying, is all old than trying to think behis in touthite them, whether his bitter out of them inside his wand. \"You know  I was!\" he said Ron�s wapk to know a sight with her eye smappeas heards around Harry. \"Ron, yese see it, which thinky, I must go dimanding inforities even burned confided too, I cane and It you know that he's going confusual att off a consully?\" shining Snape glowed Ron.\n",
      " \"What irves?\" she scootable couke-ins.\n",
      " A trucksing a conscinish decusion outsided up to them weather suggested there are - on the door fest charger.\n",
      " \"No, Neverling you welt, he's seen oursalpy, he with you,\" said Mr. Weasley, event crowded relievent through Dumbledore. \"Wo's ords� are day?\"\n",
      " \"And then, well, gonighten � my out of a bad teachers about office with you found do?\" said Harry from murmed, noise to embarer.\n",
      " \"Helling back, knocking about trying, you, Professor, and the proud to Dudled--Chinning yet!\" Hermione squilling above in them.\n",
      "Ron and Chrobel there were shuffly.\n",
      " \"And you were tryital -\"2 Snithed again; Nevill ever weeks.\n",
      "\n",
      "\"Er!\"\n",
      " \"No expressed you not realizing Ordure! I know about you!\" she�s race dragging his feet good hair.\n",
      "\n",
      " \"And climbed you. You going and going down and how what I'm comfortably and guilting, Well, not two alsering in in Mal mesterts,\" said Tother, from speller and trressons he could not really. \"You are he's wizards, though, for mind?n the going -- Buring jank the gloared for turnias, treat. The enservee ow look he find to de it was always were which heard.\n",
      " Though, I will come on me word to are whys the gap good. I'll jump it instonsivelys �\"\n",
      " \"The prophen one were piller into them betworm,\" said Harry shill brismed doingey. Luna was\n",
      " backs.\n",
      "\n",
      "\"And for you in Mogall smile growa hours - Abust seemnt, the birds. I stopped here not thinking me?\" said Mr. Weasley ceiled to\n",
      " he'd\n",
      "washing withow the cletter was a long.\n",
      " precessied breathing of\n",
      " tonight oh quick jum.\n",
      " \"Don't you dire morth's dark room. I defementor. . . ?\" and roared, whispered tunely of his surprised in\n",
      " up in Harry, thin picture.\n",
      " On a fleaks.\n",
      "\n",
      "\"Ron!\" snapped and whired as the trear Burst suffor in just thought her eyes weeks, that the caself�yigs lerjoy that Harry started\n",
      "new gless good Dursley to feel a boy collire wile, \"Tonks, ilawing for fircufuldred... eventhul floor growal commorded in Hegwigching Kreacher�Hoggency�house -\" he said lyyed below so which.\n",
      "\n",
      "Harry close �\"\n",
      "\n",
      " \"The book?\" junnes.\n",
      " \"Gool soruy!\" he shaken the occor, Ron and Queft�-butters and near\n",
      "regained. He would just like Ron was reached --\n",
      " Filch..... Harry could very pile pull out with her trees as the Ministry? The bird. Ton Wimmaum�hat hived him loved\n",
      " between he have sure and he could have rubble-burdolm,  Professor Spoll down poppink his enortous, but he with the sceny.\n",
      " The pumpidory shread are�s lame, drawing threatening. Wry, but\n",
      "wairshinx. They set off sort ow lightly and deephain of unicorn like a good on hidden nodding mick had been burned to get to see to we like it with sparking sure your fades in Hermione's, Harry sixted Ron's but Dumbledore, pale scurtling - farther of the dounding the securated Snape�s broom, and antumion shads of managed again. It kept heard Dumbledore.\n",
      " \"Yes, I�ll be wonder that? I want treavly are with your eyes for much your\n",
      "wheels you don�t be toke to him decussed it -- Lord Mundon, I'd ens to desthurion inside us, Plessies '-Notel gurge at chight. With his\n",
      " blood and, go - pressing Sirius�s detept if they't consemusent, I don�t he�s only dead me much flew,\" said Ron. \"I�ll prrimed it,\" she said. \"Just let broke, coming and already sorry�Shadicious this. ...\n",
      "\n",
      "\"She mean's not turn,\" said Harry was, right their moner heard the class for what a broom work!\"\n",
      " \"Are he's you all have hunt that they would be side offered,\" said Fred gripped it, as Harry asked Dumbledore, something rans sped of�terides sparting to feel brother? Harry had got his seet, and a heart; he crisiding the goblet. \"Mulding dun' remime of trys and the gobding!\" Ron had a little upon his showion as both and thinking, \"you'd useasing... but I'm still smacked firming expressiouse 'the explain door can, but you got all excontansted he with his feet, though be come weeks he doing you shout a gonay?\" said\n",
      ".. \"Its did you welr deserted managed you even you founch, once with them: and this you .... Pittino. And welk in hespilive...\"\n",
      "\n",
      "\"Oh!\" asked Ron before snakes. \"You seem anyone yeh said out of the splut. Erusingle Ministry before you make them if you tell . . � and cly aspees brooding objlect discointed for Potter with a\n",
      "quill out of\n",
      "wied. We could have killed a lumples had even of Regruckens stuff the worse the corridor and coming-into armains, but while.\n",
      " \"Ary you told it's there, I don't shout mughorn floor -\"\n",
      " \"I just think he's trying to underso,\" said Harry, feeling witches. \"I thle mirst.\"\n",
      " \"Well, I'd Mul- \"\n",
      " \"Dumbledore,\" said Dumbledore's heard whether dusty.\n",
      " \"But? And though deabirntil Moody to understand whythere not know what's think and ensure on his feet turns to Harry, obsornsivar,\" Harry said staring vaured.\n",
      " \"Dumbledore, ridour �� she�d very much Slytherin sus all wish thirting. And it�s Across to Hermione!\"\n",
      "\n",
      " \"Hermained to me to\n",
      " trying to\n",
      " get Moody?\" he know what it was there was something to Hermione's high back and floor with his foolish been and head � reseaned corner. Harry with a went had supposed to see some one shaging and there were soundled lips.\n",
      " \"You haven't very I wanted I've got not being it wadge! Liet Harry's groups them going to ank you, I'll\n",
      " do with Chric Baoyey got not been you got to the Head of son, Harry who did, ...\" said Snapes on the daughcuite ciding tonded himself so merchant of flowed the students under the contrair, smilthying \"while gettaked fut his naturation...\n",
      "\n",
      " do he can,\" said Luna ... Even discondinal And his number small chicken of Harry's firmer end yefundogred to enuuly or stop. It was lacking onderious Monsbor were. He felt carves on the oyer was a glass. Might alvems and to ter she faecing to him six fiarly goild days. She couldn't rean it balled insteaps.\n",
      "\n",
      "The good styth four lifted on his arms alone? Who seemed it? I looks I begged to do that is anyways. Ongeh too folleth his walkfambaged here,\" growled evid. He spess gave a horrow.\n",
      " But sicked around, tisked this than up the raim in jee. \"Course yeahs well �\"\n",
      "\n",
      "\"Dudge's aware to her!\"\n",
      " Harry defitiving his hand merely seized as he heard Hermione fived.\n",
      " \"That's a lot ��\"\n",
      "\n",
      " \"That he ought - There's from something dame's stypy�s please.\"\n",
      " He had broke himself mutter was read oh second\n",
      "\n",
      " talk as crabblidg\n",
      "s the foot if he had been anyway, and the head behind *\n",
      "Bcurts shouted: Tonk to a dust Broken, giving in the life, did you going to aslet to get light desittick guvild, \"low red�skousn't have murmn�t hourk the-chidged Death Eaters lay wondering his tried some allowed, hoking.\"\n",
      "\n",
      " Ron seconders Ron and removing staircacured went to Prophet please immediated cloopy hishead commanding to skey, but they could harm toward Hermione's guilted-checking from the floor looked up these heard into hands in his wand nostrolled Ron into his eyes, spurite! The table else.\n",
      "\n",
      "\"Reckon, I don't know,\" he had triaky was on the kitchen, but however bed. There would propped his arms and reminding much Malfoy might brirged hardness.... Rouse had heard mare brown.\n",
      " 'Measen ��\"\n",
      "\n",
      " He shouldn't know wanted a floor later, \"you are, he's to have just shouted told put them\" are in morrick imparending, he\n",
      " of feet.\n",
      " The golden horse\n",
      " beard huggulatiors. Harry asu for t�maken her hair unsorty speak, debot's head rattling clearly for here spell lingor Fletting Malfoy drowen Umbridge duen, under the glowing hure. The door. It she said, strewed the plon, so commonthander much Fred, usual swung with a corner after his heart.\n",
      " \"Ron the friends,\" said Luna and a great blink and  and pows. \"You could sorry without tranny hurrye and he are to know this wizard of grave of your veind leapt of\n",
      " except of Durmness I would he all well, here up discording, and care of edgets to communted in piece tosk dood of you?\"\n",
      "formhion had\n",
      "another one help class so bartfacully am going from the wifessitions rolled on the dogzack of Harry, ECour only, he hurred, angry, but doing, he know who was sure yet happened\n",
      " looking.\n",
      "\n",
      "\n",
      "Voby in a courtus count know of the middlework, They kicked out of the Muggled on door, eithen halped he wasn't person keeling. \"I - we�re fimerder and directions, think Real suspections mide time over all hard any of why \n"
     ]
    }
   ],
   "source": [
    "sample(m, alphabet, 10000) |> println"
   ]
  },
  {
   "cell_type": "code",
   "execution_count": 8,
   "metadata": {},
   "outputs": [
    {
     "data": {
      "text/plain": [
       "94"
      ]
     },
     "execution_count": 8,
     "metadata": {},
     "output_type": "execute_result"
    }
   ],
   "source": [
    "length(alphabet)"
   ]
  },
  {
   "cell_type": "code",
   "execution_count": 23,
   "metadata": {},
   "outputs": [
    {
     "ename": "LoadError",
     "evalue": "\u001b[91mUnsupported type Tuple{TrackedArray{…,Array{Float64,1}},TrackedArray{…,Array{Float64,1}}}\u001b[39m",
     "output_type": "error",
     "traceback": [
      "\u001b[91mUnsupported type Tuple{TrackedArray{…,Array{Float64,1}},TrackedArray{…,Array{Float64,1}}}\u001b[39m",
      "",
      "Stacktrace:",
      " [1] \u001b[1mstage\u001b[22m\u001b[22m\u001b[1m(\u001b[22m\u001b[22m::Tuple{TrackedArray{…,Array{Float64,1}},TrackedArray{…,Array{Float64,1}}}\u001b[1m)\u001b[22m\u001b[22m at \u001b[1m/home/alex/.julia/v0.6/FluxJS/src/trace.jl:28\u001b[22m\u001b[22m",
      " [2] \u001b[1mmacro expansion\u001b[22m\u001b[22m at \u001b[1m/home/alex/.julia/v0.6/FluxJS/src/trace.jl:69\u001b[22m\u001b[22m [inlined]",
      " [3] \u001b[1mprimitive\u001b[22m\u001b[22m\u001b[1m(\u001b[22m\u001b[22m::FluxJS.Trace, ::Flux.Recur{Flux.LSTMCell{TrackedArray{…,Array{Float64,2}},TrackedArray{…,Array{Float64,1}}}}, ::FluxJS.StagedArray{Float64,1}\u001b[1m)\u001b[22m\u001b[22m at \u001b[1m/home/alex/.julia/v0.6/Vinyl/src/hooks.jl:24\u001b[22m\u001b[22m",
      " [4] \u001b[1mrunall\u001b[22m\u001b[22m\u001b[1m(\u001b[22m\u001b[22m::FluxJS.Trace, ::DebuggerFramework.DebuggerState\u001b[1m)\u001b[22m\u001b[22m at \u001b[1m/home/alex/.julia/v0.6/Vinyl/src/interpret.jl:37\u001b[22m\u001b[22m",
      " [5] \u001b[1moverdub\u001b[22m\u001b[22m\u001b[1m(\u001b[22m\u001b[22m::FluxJS.Trace, ::Function, ::FluxJS.StagedArray{Float64,1}, ::Vararg{Any,N} where N\u001b[1m)\u001b[22m\u001b[22m at \u001b[1m/home/alex/.julia/v0.6/Vinyl/src/interpret.jl:53\u001b[22m\u001b[22m",
      " [6] \u001b[1m#trace#6\u001b[22m\u001b[22m\u001b[1m(\u001b[22m\u001b[22m::FluxJS.Trace, ::Function, ::Function, ::FluxJS.StagedArray{Float64,1}, ::Vararg{Any,N} where N\u001b[1m)\u001b[22m\u001b[22m at \u001b[1m/home/alex/.julia/v0.6/FluxJS/src/trace.jl:30\u001b[22m\u001b[22m",
      " [7] \u001b[1m(::FluxJS.#kw##trace)\u001b[22m\u001b[22m\u001b[1m(\u001b[22m\u001b[22m::Array{Any,1}, ::FluxJS.#trace, ::Function, ::FluxJS.StagedArray{Float64,1}, ::Vararg{Any,N} where N\u001b[1m)\u001b[22m\u001b[22m at \u001b[1m./<missing>:0\u001b[22m\u001b[22m",
      " [8] \u001b[1mmacro expansion\u001b[22m\u001b[22m at \u001b[1m/home/alex/.julia/v0.6/FluxJS/src/trace.jl:58\u001b[22m\u001b[22m [inlined]",
      " [9] \u001b[1mprimitive\u001b[22m\u001b[22m\u001b[1m(\u001b[22m\u001b[22m::FluxJS.Trace, ::Function, ::FluxJS.StagedArray{Float64,1}, ::Flux.Recur{Flux.LSTMCell{TrackedArray{…,Array{Float64,2}},TrackedArray{…,Array{Float64,1}}}}\u001b[1m)\u001b[22m\u001b[22m at \u001b[1m/home/alex/.julia/v0.6/Vinyl/src/hooks.jl:24\u001b[22m\u001b[22m",
      " [10] \u001b[1mrunall\u001b[22m\u001b[22m\u001b[1m(\u001b[22m\u001b[22m::FluxJS.Trace, ::DebuggerFramework.DebuggerState\u001b[1m)\u001b[22m\u001b[22m at \u001b[1m/home/alex/.julia/v0.6/Vinyl/src/interpret.jl:37\u001b[22m\u001b[22m",
      " [11] \u001b[1moverdub\u001b[22m\u001b[22m\u001b[1m(\u001b[22m\u001b[22m::FluxJS.Trace, ::Function, ::Function, ::Vararg{Any,N} where N\u001b[1m)\u001b[22m\u001b[22m at \u001b[1m/home/alex/.julia/v0.6/Vinyl/src/interpret.jl:53\u001b[22m\u001b[22m",
      " [12] \u001b[1m#trace#6\u001b[22m\u001b[22m\u001b[1m(\u001b[22m\u001b[22m::FluxJS.Trace, ::Function, ::Function, ::Function, ::Vararg{Any,N} where N\u001b[1m)\u001b[22m\u001b[22m at \u001b[1m/home/alex/.julia/v0.6/FluxJS/src/trace.jl:30\u001b[22m\u001b[22m",
      " [13] \u001b[1m(::FluxJS.#kw##trace)\u001b[22m\u001b[22m\u001b[1m(\u001b[22m\u001b[22m::Array{Any,1}, ::FluxJS.#trace, ::Function, ::Function, ::Vararg{Any,N} where N\u001b[1m)\u001b[22m\u001b[22m at \u001b[1m./<missing>:0\u001b[22m\u001b[22m",
      " [14] \u001b[1mmacro expansion\u001b[22m\u001b[22m at \u001b[1m/home/alex/.julia/v0.6/FluxJS/src/trace.jl:58\u001b[22m\u001b[22m [inlined]",
      " [15] \u001b[1mprimitive\u001b[22m\u001b[22m\u001b[1m(\u001b[22m\u001b[22m::FluxJS.Trace, ::Function, ::Function, ::Function, ::FluxJS.StagedArray{Float64,1}, ::Vararg{Any,N} where N\u001b[1m)\u001b[22m\u001b[22m at \u001b[1m/home/alex/.julia/v0.6/Vinyl/src/hooks.jl:24\u001b[22m\u001b[22m",
      " [16] \u001b[1mrunall\u001b[22m\u001b[22m\u001b[1m(\u001b[22m\u001b[22m::FluxJS.Trace, ::DebuggerFramework.DebuggerState\u001b[1m)\u001b[22m\u001b[22m at \u001b[1m/home/alex/.julia/v0.6/Vinyl/src/interpret.jl:37\u001b[22m\u001b[22m",
      " [17] \u001b[1moverdub\u001b[22m\u001b[22m\u001b[1m(\u001b[22m\u001b[22m::FluxJS.Trace, ::Function, ::Function, ::Vararg{Any,N} where N\u001b[1m)\u001b[22m\u001b[22m at \u001b[1m/home/alex/.julia/v0.6/Vinyl/src/interpret.jl:53\u001b[22m\u001b[22m",
      " [18] \u001b[1m#trace#6\u001b[22m\u001b[22m\u001b[1m(\u001b[22m\u001b[22m::FluxJS.Trace, ::Function, ::Function, ::Function, ::Vararg{Any,N} where N\u001b[1m)\u001b[22m\u001b[22m at \u001b[1m/home/alex/.julia/v0.6/FluxJS/src/trace.jl:30\u001b[22m\u001b[22m",
      " [19] \u001b[1m(::FluxJS.#kw##trace)\u001b[22m\u001b[22m\u001b[1m(\u001b[22m\u001b[22m::Array{Any,1}, ::FluxJS.#trace, ::Function, ::Function, ::Vararg{Any,N} where N\u001b[1m)\u001b[22m\u001b[22m at \u001b[1m./<missing>:0\u001b[22m\u001b[22m",
      " [20] \u001b[1mmacro expansion\u001b[22m\u001b[22m at \u001b[1m/home/alex/.julia/v0.6/FluxJS/src/trace.jl:58\u001b[22m\u001b[22m [inlined]",
      " [21] \u001b[1mprimitive\u001b[22m\u001b[22m\u001b[1m(\u001b[22m\u001b[22m::FluxJS.Trace, ::Function, ::Function, ::Function, ::FluxJS.StagedArray{Float64,1}, ::Vararg{Any,N} where N\u001b[1m)\u001b[22m\u001b[22m at \u001b[1m/home/alex/.julia/v0.6/Vinyl/src/hooks.jl:24\u001b[22m\u001b[22m",
      " [22] \u001b[1mrunall\u001b[22m\u001b[22m\u001b[1m(\u001b[22m\u001b[22m::FluxJS.Trace, ::DebuggerFramework.DebuggerState\u001b[1m)\u001b[22m\u001b[22m at \u001b[1m/home/alex/.julia/v0.6/Vinyl/src/interpret.jl:37\u001b[22m\u001b[22m",
      " [23] \u001b[1moverdub\u001b[22m\u001b[22m\u001b[1m(\u001b[22m\u001b[22m::FluxJS.Trace, ::Function, ::Function, ::Vararg{Any,N} where N\u001b[1m)\u001b[22m\u001b[22m at \u001b[1m/home/alex/.julia/v0.6/Vinyl/src/interpret.jl:53\u001b[22m\u001b[22m",
      " [24] \u001b[1m#trace#6\u001b[22m\u001b[22m\u001b[1m(\u001b[22m\u001b[22m::FluxJS.Trace, ::Function, ::Function, ::Function, ::Vararg{Any,N} where N\u001b[1m)\u001b[22m\u001b[22m at \u001b[1m/home/alex/.julia/v0.6/FluxJS/src/trace.jl:30\u001b[22m\u001b[22m",
      " [25] \u001b[1m(::FluxJS.#kw##trace)\u001b[22m\u001b[22m\u001b[1m(\u001b[22m\u001b[22m::Array{Any,1}, ::FluxJS.#trace, ::Function, ::Function, ::Vararg{Any,N} where N\u001b[1m)\u001b[22m\u001b[22m at \u001b[1m./<missing>:0\u001b[22m\u001b[22m",
      " [26] \u001b[1mmacro expansion\u001b[22m\u001b[22m at \u001b[1m/home/alex/.julia/v0.6/FluxJS/src/trace.jl:58\u001b[22m\u001b[22m [inlined]",
      " [27] \u001b[1mprimitive\u001b[22m\u001b[22m\u001b[1m(\u001b[22m\u001b[22m::FluxJS.Trace, ::Function, ::Function, ::FluxJS.StagedArray{Float64,1}, ::Array{Any,1}, ::Vararg{Array{Any,1},N} where N\u001b[1m)\u001b[22m\u001b[22m at \u001b[1m/home/alex/.julia/v0.6/Vinyl/src/hooks.jl:24\u001b[22m\u001b[22m",
      " [28] \u001b[1mrunall\u001b[22m\u001b[22m\u001b[1m(\u001b[22m\u001b[22m::FluxJS.Trace, ::DebuggerFramework.DebuggerState\u001b[1m)\u001b[22m\u001b[22m at \u001b[1m/home/alex/.julia/v0.6/Vinyl/src/interpret.jl:37\u001b[22m\u001b[22m",
      " [29] \u001b[1moverdub\u001b[22m\u001b[22m\u001b[1m(\u001b[22m\u001b[22m::FluxJS.Trace, ::Flux.Chain, ::FluxJS.StagedArray{Float64,1}, ::Vararg{FluxJS.StagedArray{Float64,1},N} where N\u001b[1m)\u001b[22m\u001b[22m at \u001b[1m/home/alex/.julia/v0.6/Vinyl/src/interpret.jl:53\u001b[22m\u001b[22m",
      " [30] \u001b[1m#trace#6\u001b[22m\u001b[22m\u001b[1m(\u001b[22m\u001b[22m::FluxJS.Trace, ::Function, ::Flux.Chain, ::FluxJS.StagedArray{Float64,1}, ::Vararg{FluxJS.StagedArray{Float64,1},N} where N\u001b[1m)\u001b[22m\u001b[22m at \u001b[1m/home/alex/.julia/v0.6/FluxJS/src/trace.jl:30\u001b[22m\u001b[22m",
      " [31] \u001b[1m(::FluxJS.#kw##trace)\u001b[22m\u001b[22m\u001b[1m(\u001b[22m\u001b[22m::Array{Any,1}, ::FluxJS.#trace, ::Flux.Chain, ::FluxJS.StagedArray{Float64,1}, ::Vararg{FluxJS.StagedArray{Float64,1},N} where N\u001b[1m)\u001b[22m\u001b[22m at \u001b[1m./<missing>:0\u001b[22m\u001b[22m",
      " [32] \u001b[1m#_traceλ#9\u001b[22m\u001b[22m\u001b[1m(\u001b[22m\u001b[22m::FluxJS.Trace, ::Function, ::Flux.Chain, ::Type{T} where T, ::Vararg{Type{T} where T,N} where N\u001b[1m)\u001b[22m\u001b[22m at \u001b[1m/home/alex/.julia/v0.6/FluxJS/src/trace.jl:39\u001b[22m\u001b[22m",
      " [33] \u001b[1m(::FluxJS.#kw##_traceλ)\u001b[22m\u001b[22m\u001b[1m(\u001b[22m\u001b[22m::Array{Any,1}, ::FluxJS.#_traceλ, ::Flux.Chain, ::DataType, ::Vararg{DataType,N} where N\u001b[1m)\u001b[22m\u001b[22m at \u001b[1m./<missing>:0\u001b[22m\u001b[22m",
      " [34] \u001b[1m#traceλ#10\u001b[22m\u001b[22m\u001b[1m(\u001b[22m\u001b[22m::FluxJS.Trace, ::Function, ::Flux.Chain, ::Type{T} where T, ::Vararg{Type{T} where T,N} where N\u001b[1m)\u001b[22m\u001b[22m at \u001b[1m/home/alex/.julia/v0.6/FluxJS/src/trace.jl:44\u001b[22m\u001b[22m",
      " [35] \u001b[1m(::FluxJS.#kw##traceλ)\u001b[22m\u001b[22m\u001b[1m(\u001b[22m\u001b[22m::Array{Any,1}, ::FluxJS.#traceλ, ::Flux.Chain, ::Type{T} where T, ::Vararg{Type{T} where T,N} where N\u001b[1m)\u001b[22m\u001b[22m at \u001b[1m./<missing>:0\u001b[22m\u001b[22m",
      " [36] \u001b[1m#compile#42\u001b[22m\u001b[22m at \u001b[1m/home/alex/.julia/v0.6/FluxJS/src/compile.jl:102\u001b[22m\u001b[22m [inlined]",
      " [37] \u001b[1mcompile\u001b[22m\u001b[22m\u001b[1m(\u001b[22m\u001b[22m::Flux.Chain, ::Array{Float64,1}\u001b[1m)\u001b[22m\u001b[22m at \u001b[1m/home/alex/.julia/v0.6/FluxJS/src/compile.jl:101\u001b[22m\u001b[22m",
      " [38] \u001b[1minclude_string\u001b[22m\u001b[22m\u001b[1m(\u001b[22m\u001b[22m::String, ::String\u001b[1m)\u001b[22m\u001b[22m at \u001b[1m./loading.jl:522\u001b[22m\u001b[22m"
     ]
    }
   ],
   "source": [
    "@code_js m(zeros(94))"
   ]
  },
  {
   "cell_type": "code",
   "execution_count": 22,
   "metadata": {},
   "outputs": [],
   "source": [
    "@load \"model-checkpoint.bson\" m"
   ]
  },
  {
   "cell_type": "code",
   "execution_count": 27,
   "metadata": {},
   "outputs": [
    {
     "data": {
      "text/plain": [
       "Tracked 94×25 Array{Float64,2}:\n",
       " 2.90854e-5   0.000118049  …  0.000154269  8.2384e-6   7.9182e-5 \n",
       " 0.682277     0.703952        0.0143805    0.108223    0.573244  \n",
       " 0.00858001   0.0497          0.00681526   0.00204965  0.0210669 \n",
       " 0.00553047   0.000614798     0.000309075  0.00459829  0.00732779\n",
       " 0.0138385    0.00160243      0.00237333   0.0164756   0.00122341\n",
       " 2.09908e-5   4.31597e-5   …  6.42426e-5   1.4833e-5   1.20529e-5\n",
       " 0.0469966    0.0868281       0.00463252   0.00294652  0.0212775 \n",
       " 0.0148687    0.0122372       0.771559     0.013287    0.0133423 \n",
       " 0.0304297    0.00875302      0.00244044   0.0111998   0.0264861 \n",
       " 0.00531429   0.00457857      0.0387241    0.0195691   0.0109529 \n",
       " 0.000389545  0.00157066   …  0.000393897  0.0268009   0.00646937\n",
       " 0.00472734   0.00437733      0.0144871    0.0101109   0.0295822 \n",
       " 1.59775e-5   4.97304e-5      4.68176e-5   1.47801e-5  6.7845e-5 \n",
       " ⋮                         ⋱                                     \n",
       " 7.82424e-6   4.48123e-6      9.83668e-7   9.48396e-7  2.22765e-6\n",
       " 2.94054e-5   1.05323e-5      1.34686e-6   5.12065e-7  1.16806e-6\n",
       " 5.1043e-6    1.71705e-6      8.48557e-8   2.30775e-8  1.3733e-7 \n",
       " 1.25689e-5   5.09293e-6   …  1.68599e-6   2.91426e-7  1.04773e-6\n",
       " 1.88478e-5   1.09775e-5      1.05319e-6   4.64659e-7  1.41469e-6\n",
       " 2.01652e-6   4.08934e-7      7.58317e-8   4.53871e-8  5.00371e-8\n",
       " 3.85459e-6   1.0119e-6       4.21525e-8   1.33092e-8  4.51771e-8\n",
       " 7.26828e-6   3.24204e-6      5.61586e-7   2.69176e-7  6.44186e-7\n",
       " 5.01918e-6   2.77845e-6   …  4.53672e-7   2.91984e-7  6.88997e-7\n",
       " 2.64768e-6   7.72123e-7      1.49106e-7   5.95527e-8  1.05579e-7\n",
       " 1.27942e-6   2.95467e-7      3.76024e-8   2.79465e-8  3.38118e-8\n",
       " 2.38642e-6   8.82482e-7      8.44645e-8   3.73881e-8  9.53396e-8"
      ]
     },
     "execution_count": 27,
     "metadata": {},
     "output_type": "execute_result"
    }
   ],
   "source": [
    "m(zeros(94))"
   ]
  },
  {
   "cell_type": "code",
   "execution_count": null,
   "metadata": {},
   "outputs": [],
   "source": []
  }
 ],
 "metadata": {
  "kernelspec": {
   "display_name": "Julia 0.6.1",
   "language": "julia",
   "name": "julia-0.6"
  },
  "language_info": {
   "file_extension": ".jl",
   "mimetype": "application/julia",
   "name": "julia",
   "version": "0.6.1"
  }
 },
 "nbformat": 4,
 "nbformat_minor": 2
}
